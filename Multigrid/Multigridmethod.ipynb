{
  "nbformat": 4,
  "nbformat_minor": 0,
  "metadata": {
    "colab": {
      "name": "Multigridmethod.ipynb",
      "provenance": [],
      "collapsed_sections": []
    },
    "kernelspec": {
      "name": "python3",
      "display_name": "Python 3"
    },
    "language_info": {
      "name": "python"
    }
  },
  "cells": [
    {
      "cell_type": "code",
      "source": [
        "import numpy as np\n",
        "from scipy import ndimage\n",
        "from matplotlib import pyplot as plt"
      ],
      "metadata": {
        "id": "G4BBfmAiNVCg"
      },
      "execution_count": 1,
      "outputs": []
    },
    {
      "cell_type": "code",
      "source": [
        "def init_grid(len, height):\n",
        "  dx,dy = 1\n",
        "  grid = np.zeros([int(len/dx),int(height/dy)])\n",
        "\n",
        "  return grid"
      ],
      "metadata": {
        "id": "tGBM5xJ4OgKG"
      },
      "execution_count": 2,
      "outputs": []
    },
    {
      "cell_type": "code",
      "source": [
        "def init_cond(len,height):\n",
        "  dx,dy = 1\n",
        "  grid_cond = np.ones([int(len/dx),int(height/dy)], dtype = bool)\n",
        "  \n",
        "  return grid_cond"
      ],
      "metadata": {
        "id": "JKH41DLhQI3-"
      },
      "execution_count": 3,
      "outputs": []
    },
    {
      "cell_type": "code",
      "source": [
        "def sweep(grid, frame, W):\n",
        "  stencil = np.array([[0,1,0],[1,-4,1], [0,1,0]])\n",
        "  output = np.zeros_like(grid)\n",
        "  len, height = grid.shape\n",
        "  # Bounded diagonal Matrix settings for both black and white for checkeredboard pattern.\n",
        "  M_black = np.zeros(grid.shape, dtype = bool)\n",
        "  M_black[::2, ::2] = True\n",
        "  M_black[1::2, 1::2] = True\n",
        "  frame_black = M_black * frame\n",
        "\n",
        "  M_white = np.ones(grid.shape, dtype = bool)\n",
        "  M_white[::2, ::2] = False\n",
        "  M_white[1::2, 1::2] = False\n",
        "  frame_white = M_white * frame\n",
        "\n",
        "  # Convolve.\n",
        "  \n",
        "  # Black\n",
        "  grid[frame_black] += (W/4) * ndimage.convolve(grid, stencil, output = output, mode = 'constant', cval = 0)[frame_black]\n",
        "\n",
        "  # White \n",
        "  grid[frame_white] += (W/4) * ndimage.convolve(grid, stencil, output = output, mode = 'constant', cval = 0)[frame_white]\n",
        "\n",
        "  return grid"
      ],
      "metadata": {
        "id": "Nd1ZEPk2TwoC"
      },
      "execution_count": 4,
      "outputs": []
    },
    {
      "cell_type": "code",
      "source": [
        "# Layer Grids to solve.\n",
        "def coarse_grid(grid, grid2, x1, x2, y1, y2, pot):\n",
        "  #Extract smaller grid points from the grid initialized.\n",
        "  len, height = grid.shape\n",
        "  x1_g = int(x1*len)\n",
        "  x2_g = int(x2*len)\n",
        "  y1_g = int(y1*height)\n",
        "  y2_g = int(y2*height)\n",
        "\n",
        "  # -- \n",
        "\n",
        "  dx = x2_g - x1_g\n",
        "  dy = y2_g - y1_g\n",
        "\n",
        "  if dx == 0:\n",
        "    m = 0\n",
        "  else:\n",
        "    m = dy/dx\n",
        "\n",
        "\n",
        "  # Potential\n",
        "  for i in range(len):\n",
        "    if x2_g >= i and i >= x1_g:\n",
        "      for jj in range(height):\n",
        "        if jj == int(m * i + (y1_g - m * x1_g)) and y2_g >= jj and jj >= y1_g:\n",
        "          grid[jj,i] = pot\n",
        "          grid2[jj,i] = False\n",
        "  return grid, grid2\n",
        "\n",
        "\n",
        "\n",
        "\n",
        "\n",
        "\n",
        "\n",
        "  \n",
        "\n"
      ],
      "metadata": {
        "id": "IE4CJ4VFb_wv"
      },
      "execution_count": 5,
      "outputs": []
    },
    {
      "cell_type": "code",
      "source": [
        "# 0 <= W <= 2 is SOR. Closer to 2.\n",
        "\n",
        "\n",
        "W = 1.9\n",
        "init_grid = np.zeros([100,100])\n",
        "init_cond = np.ones([100,100], dtype = bool)\n",
        "\n",
        "init_grid, boundries = coarse_grid(init_grid, init_cond, 0.1,0.9,0.5,0.6,1500)\n",
        "\n",
        "\n",
        "for i in range(5000):\n",
        "  init_grid = sweep(init_grid, boundries, W)\n",
        "  \n",
        "  if i % 1000 == 0:\n",
        "    print(i)\n",
        "\n",
        "\n",
        "\n"
      ],
      "metadata": {
        "id": "iWGrHCEXZTjm",
        "colab": {
          "base_uri": "https://localhost:8080/"
        },
        "outputId": "3bb51c87-d26e-48b1-b517-c2d995f84951"
      },
      "execution_count": 6,
      "outputs": [
        {
          "output_type": "stream",
          "name": "stdout",
          "text": [
            "0\n",
            "1000\n",
            "2000\n",
            "3000\n",
            "4000\n"
          ]
        }
      ]
    },
    {
      "cell_type": "code",
      "source": [
        "plt.figure()\n",
        "plt.title(\"Potential 1500V\")\n",
        "levels = np.linspace(0, 1500, 50)\n",
        "cbar = plt.colorbar(plt.contourf(init_grid, levels=levels))\n",
        "cbar.ax.set_title(\"PotentialV\", fontsize=8, loc=\"left\")\n",
        "plt.savefig('Potential_1500V.png')"
      ],
      "metadata": {
        "colab": {
          "base_uri": "https://localhost:8080/",
          "height": 281
        },
        "id": "i25aie5Ju-Cu",
        "outputId": "31d889fe-b943-41a6-a2f0-10898c1a0a22"
      },
      "execution_count": 7,
      "outputs": [
        {
          "output_type": "display_data",
          "data": {
            "text/plain": [
              "<Figure size 432x288 with 2 Axes>"
            ],
            "image/png": "[encoded data removed]"
          },
          "metadata": {
            "needs_background": "light"
          }
        }
      ]
    },
    {
      "cell_type": "code",
      "source": [
        ""
      ],
      "metadata": {
        "id": "p1fu4a_U9o7E"
      },
      "execution_count": null,
      "outputs": []
    }
  ]
}